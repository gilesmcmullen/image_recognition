{
 "cells": [
  {
   "cell_type": "markdown",
   "metadata": {
    "collapsed": true
   },
   "source": [
    "# Image Classification\n",
    "In this project, you'll classify images from the [CIFAR-10 dataset](https://www.cs.toronto.edu/~kriz/cifar.html).  The dataset consists of airplanes, dogs, cats, and other objects. You'll preprocess the images, then train a convolutional neural network on all the samples. The images need to be normalized and the labels need to be one-hot encoded.  You'll get to apply what you learned and build a convolutional, max pooling, dropout, and fully connected layers.  At the end, you'll get to see your neural network's predictions on the sample images.\n",
    "## Get the Data\n",
    "Run the following cell to download the [CIFAR-10 dataset for python](https://www.cs.toronto.edu/~kriz/cifar-10-python.tar.gz)."
   ]
  },
  {
   "cell_type": "code",
   "execution_count": 2,
   "metadata": {},
   "outputs": [
    {
     "name": "stderr",
     "output_type": "stream",
     "text": [
      "CIFAR-10 Dataset: 171MB [01:23, 3.41MB/s]                              \n"
     ]
    },
    {
     "name": "stdout",
     "output_type": "stream",
     "text": [
      "All files found!\n"
     ]
    }
   ],
   "source": [
    "\"\"\"\n",
    "DON'T MODIFY ANYTHING IN THIS CELL THAT IS BELOW THIS LINE\n",
    "\"\"\"\n",
    "from urllib.request import urlretrieve\n",
    "from os.path import isfile, isdir\n",
    "from tqdm import tqdm\n",
    "import problem_unittests as tests\n",
    "import tarfile\n",
    "\n",
    "cifar10_dataset_folder_path = 'cifar-10-batches-py'\n",
    "\n",
    "class DLProgress(tqdm):\n",
    "    last_block = 0\n",
    "\n",
    "    def hook(self, block_num=1, block_size=1, total_size=None):\n",
    "        self.total = total_size\n",
    "        self.update((block_num - self.last_block) * block_size)\n",
    "        self.last_block = block_num\n",
    "\n",
    "if not isfile('cifar-10-python.tar.gz'):\n",
    "    with DLProgress(unit='B', unit_scale=True, miniters=1, desc='CIFAR-10 Dataset') as pbar:\n",
    "        urlretrieve(\n",
    "            'https://www.cs.toronto.edu/~kriz/cifar-10-python.tar.gz',\n",
    "            'cifar-10-python.tar.gz',\n",
    "            pbar.hook)\n",
    "\n",
    "if not isdir(cifar10_dataset_folder_path):\n",
    "    with tarfile.open('cifar-10-python.tar.gz') as tar:\n",
    "        tar.extractall()\n",
    "        tar.close()\n",
    "\n",
    "\n",
    "tests.test_folder_path(cifar10_dataset_folder_path)"
   ]
  },
  {
   "cell_type": "markdown",
   "metadata": {},
   "source": [
    "## Explore the Data\n",
    "The dataset is broken into batches to prevent your machine from running out of memory.  The CIFAR-10 dataset consists of 5 batches, named `data_batch_1`, `data_batch_2`, etc.. Each batch contains the labels and images that are one of the following:\n",
    "* airplane\n",
    "* automobile\n",
    "* bird\n",
    "* cat\n",
    "* deer\n",
    "* dog\n",
    "* frog\n",
    "* horse\n",
    "* ship\n",
    "* truck\n",
    "\n",
    "Understanding a dataset is part of making predictions on the data.  Play around with the code cell below by changing the `batch_id` and `sample_id`. The `batch_id` is the id for a batch (1-5). The `sample_id` is the id for a image and label pair in the batch.\n",
    "\n",
    "Ask yourself \"What are all possible labels?\", \"What is the range of values for the image data?\", \"Are the labels in order or random?\".  Answers to questions like these will help you preprocess the data and end up with better predictions."
   ]
  },
  {
   "cell_type": "code",
   "execution_count": 16,
   "metadata": {},
   "outputs": [
    {
     "name": "stdout",
     "output_type": "stream",
     "text": [
      "\n",
      "Stats of batch 3:\n",
      "Samples: 10000\n",
      "Label Counts: {0: 994, 1: 1042, 2: 965, 3: 997, 4: 990, 5: 1029, 6: 978, 7: 1015, 8: 961, 9: 1029}\n",
      "First 20 Labels: [8, 5, 0, 6, 9, 2, 8, 3, 6, 2, 7, 4, 6, 9, 0, 0, 7, 3, 7, 2]\n",
      "\n",
      "Example of Image 1000:\n",
      "Image - Min Value: 37 Max Value: 230\n",
      "Image - Shape: (32, 32, 3)\n",
      "Label - Label Id: 0 Name: airplane\n"
     ]
    },
    {
     "data": {
      "image/png": "[encoded data removed]",
      "text/plain": [
       "<matplotlib.figure.Figure at 0x11b779ba8>"
      ]
     },
     "metadata": {
      "image/png": {
       "height": 250,
       "width": 253
      }
     },
     "output_type": "display_data"
    }
   ],
   "source": [
    "%matplotlib inline\n",
    "%config InlineBackend.figure_format = 'retina'\n",
    "\n",
    "import helper\n",
    "import numpy as np\n",
    "\n",
    "# Explore the dataset\n",
    "batch_id = 3\n",
    "sample_id = 1000\n",
    "helper.display_stats(cifar10_dataset_folder_path, batch_id, sample_id)"
   ]
  },
  {
   "cell_type": "markdown",
   "metadata": {},
   "source": [
    "## Implement Preprocess Functions\n",
    "### Normalize\n",
    "In the cell below, implement the `normalize` function to take in image data, `x`, and return it as a normalized Numpy array. The values should be in the range of 0 to 1, inclusive.  The return object should be the same shape as `x`."
   ]
  },
  {
   "cell_type": "code",
   "execution_count": 29,
   "metadata": {},
   "outputs": [
    {
     "name": "stdout",
     "output_type": "stream",
     "text": [
      "Tests Passed\n"
     ]
    }
   ],
   "source": [
    "def normalize(x):\n",
    "    \"\"\"\n",
    "    Normalize a list of sample image data in the range of 0 to 1\n",
    "    : x: List of image data.  The image shape is (32, 32, 3)\n",
    "    : return: Numpy array of normalize data\n",
    "    \"\"\"\n",
    "    # TODO: Implement Function\n",
    "    \n",
    "    return (x[0:x.shape[0]]/255)\n",
    "    \n",
    "    \n",
    "\n",
    "\n",
    "\"\"\"\n",
    "DON'T MODIFY ANYTHING IN THIS CELL THAT IS BELOW THIS LINE\n",
    "\"\"\"\n",
    "tests.test_normalize(normalize)"
   ]
  },
  {
   "cell_type": "markdown",
   "metadata": {},
   "source": [
    "### One-hot encode\n",
    "Just like the previous code cell, you'll be implementing a function for preprocessing.  This time, you'll implement the `one_hot_encode` function. The input, `x`, are a list of labels.  Implement the function to return the list of labels as One-Hot encoded Numpy array.  The possible values for labels are 0 to 9. The one-hot encoding function should return the same encoding for each value between each call to `one_hot_encode`.  Make sure to save the map of encodings outside the function.\n",
    "\n",
    "**Hint:**\n",
    "\n",
    "Look into LabelBinarizer in the preprocessing module of sklearn."
   ]
  },
  {
   "cell_type": "code",
   "execution_count": 60,
   "metadata": {},
   "outputs": [
    {
     "name": "stdout",
     "output_type": "stream",
     "text": [
      "Tests Passed\n"
     ]
    }
   ],
   "source": [
    "from sklearn import preprocessing\n",
    "lb = preprocessing.LabelBinarizer()\n",
    "lb.fit([0,1,2,3,4,5,6,7,8,9])\n",
    "def one_hot_encode(x):\n",
    "    \"\"\"\n",
    "    One hot encode a list of sample labels. Return a one-hot encoded vector for each label.\n",
    "    : x: List of sample Labels\n",
    "    : return: Numpy array of one-hot encoded labels\n",
    "    \"\"\"\n",
    "    # TODO: Implement Function\n",
    "    \n",
    "    #print(x)\n",
    "    \n",
    "    #print(lb.transform(x))\n",
    "    return  lb.transform(x)\n",
    "\n",
    "\n",
    "\"\"\"\n",
    "DON'T MODIFY ANYTHING IN THIS CELL THAT IS BELOW THIS LINE\n",
    "\"\"\"\n",
    "tests.test_one_hot_encode(one_hot_encode)"
   ]
  },
  {
   "cell_type": "markdown",
   "metadata": {},
   "source": [
    "### Randomize Data\n",
    "As you saw from exploring the data above, the order of the samples are randomized.  It doesn't hurt to randomize it again, but you don't need to for this dataset."
   ]
  },
  {
   "cell_type": "markdown",
   "metadata": {},
   "source": [
    "## Preprocess all the data and save it\n",
    "Running the code cell below will preprocess all the CIFAR-10 data and save it to file. The code below also uses 10% of the training data for validation."
   ]
  },
  {
   "cell_type": "code",
   "execution_count": 61,
   "metadata": {
    "collapsed": true
   },
   "outputs": [],
   "source": [
    "\"\"\"\n",
    "DON'T MODIFY ANYTHING IN THIS CELL\n",
    "\"\"\"\n",
    "# Preprocess Training, Validation, and Testing Data\n",
    "helper.preprocess_and_save_data(cifar10_dataset_folder_path, normalize, one_hot_encode)"
   ]
  },
  {
   "cell_type": "markdown",
   "metadata": {},
   "source": [
    "# Check Point\n",
    "This is your first checkpoint.  If you ever decide to come back to this notebook or have to restart the notebook, you can start from here.  The preprocessed data has been saved to disk."
   ]
  },
  {
   "cell_type": "code",
   "execution_count": 1,
   "metadata": {
    "collapsed": true
   },
   "outputs": [],
   "source": [
    "\"\"\"\n",
    "DON'T MODIFY ANYTHING IN THIS CELL\n",
    "\"\"\"\n",
    "import pickle\n",
    "import problem_unittests as tests\n",
    "import helper\n",
    "\n",
    "# Load the Preprocessed Validation data\n",
    "valid_features, valid_labels = pickle.load(open('preprocess_validation.p', mode='rb'))"
   ]
  },
  {
   "cell_type": "markdown",
   "metadata": {},
   "source": [
    "## Build the network\n",
    "For the neural network, you'll build each layer into a function.  Most of the code you've seen has been outside of functions. To test your code more thoroughly, we require that you put each layer in a function.  This allows us to give you better feedback and test for simple mistakes using our unittests before you submit your project.\n",
    "\n",
    ">**Note:** If you're finding it hard to dedicate enough time for this course each week, we've provided a small shortcut to this part of the project. In the next couple of problems, you'll have the option to use classes from the [TensorFlow Layers](https://www.tensorflow.org/api_docs/python/tf/layers) or [TensorFlow Layers (contrib)](https://www.tensorflow.org/api_guides/python/contrib.layers) packages to build each layer, except the layers you build in the \"Convolutional and Max Pooling Layer\" section.  TF Layers is similar to Keras's and TFLearn's abstraction to layers, so it's easy to pickup.\n",
    "\n",
    ">However, if you would like to get the most out of this course, try to solve all the problems _without_ using anything from the TF Layers packages. You **can** still use classes from other packages that happen to have the same name as ones you find in TF Layers! For example, instead of using the TF Layers version of the `conv2d` class, [tf.layers.conv2d](https://www.tensorflow.org/api_docs/python/tf/layers/conv2d), you would want to use the TF Neural Network version of `conv2d`, [tf.nn.conv2d](https://www.tensorflow.org/api_docs/python/tf/nn/conv2d). \n",
    "\n",
    "Let's begin!\n",
    "\n",
    "### Input\n",
    "The neural network needs to read the image data, one-hot encoded labels, and dropout keep probability. Implement the following functions\n",
    "* Implement `neural_net_image_input`\n",
    " * Return a [TF Placeholder](https://www.tensorflow.org/api_docs/python/tf/placeholder)\n",
    " * Set the shape using `image_shape` with batch size set to `None`.\n",
    " * Name the TensorFlow placeholder \"x\" using the TensorFlow `name` parameter in the [TF Placeholder](https://www.tensorflow.org/api_docs/python/tf/placeholder).\n",
    "* Implement `neural_net_label_input`\n",
    " * Return a [TF Placeholder](https://www.tensorflow.org/api_docs/python/tf/placeholder)\n",
    " * Set the shape using `n_classes` with batch size set to `None`.\n",
    " * Name the TensorFlow placeholder \"y\" using the TensorFlow `name` parameter in the [TF Placeholder](https://www.tensorflow.org/api_docs/python/tf/placeholder).\n",
    "* Implement `neural_net_keep_prob_input`\n",
    " * Return a [TF Placeholder](https://www.tensorflow.org/api_docs/python/tf/placeholder) for dropout keep probability.\n",
    " * Name the TensorFlow placeholder \"keep_prob\" using the TensorFlow `name` parameter in the [TF Placeholder](https://www.tensorflow.org/api_docs/python/tf/placeholder).\n",
    "\n",
    "These names will be used at the end of the project to load your saved model.\n",
    "\n",
    "Note: `None` for shapes in TensorFlow allow for a dynamic size."
   ]
  },
  {
   "cell_type": "code",
   "execution_count": 2,
   "metadata": {},
   "outputs": [
    {
     "name": "stdout",
     "output_type": "stream",
     "text": [
      "Image Input Tests Passed.\n",
      "Label Input Tests Passed.\n",
      "Keep Prob Tests Passed.\n"
     ]
    }
   ],
   "source": [
    "import tensorflow as tf\n",
    "\n",
    "def neural_net_image_input(image_shape):\n",
    "    \"\"\"\n",
    "    Return a Tensor for a batch of image input\n",
    "    : image_shape: Shape of the images\n",
    "    : return: Tensor for image input.\n",
    "    \"\"\"\n",
    "    # TODO: Implement Function\n",
    "    \n",
    "    return tf.placeholder(tf.float32, shape=(None, image_shape[0], image_shape[1],image_shape[2]), name = 'x')\n",
    "\n",
    "\n",
    "def neural_net_label_input(n_classes):\n",
    "    \"\"\"\n",
    "    Return a Tensor for a batch of label input\n",
    "    : n_classes: Number of classes\n",
    "    : return: Tensor for label input.\n",
    "    \"\"\"\n",
    "    # TODO: Implement Function\n",
    "    return tf.placeholder(tf.float32, shape=(None, n_classes), name = 'y')\n",
    "\n",
    "\n",
    "def neural_net_keep_prob_input():\n",
    "    \"\"\"\n",
    "    Return a Tensor for keep probability\n",
    "    : return: Tensor for keep probability.\n",
    "    \"\"\"\n",
    "    # TODO: Implement Function\n",
    "    return tf.placeholder(tf.float32,name = 'keep_prob')\n",
    "\n",
    "\n",
    "\"\"\"\n",
    "DON'T MODIFY ANYTHING IN THIS CELL THAT IS BELOW THIS LINE\n",
    "\"\"\"\n",
    "tf.reset_default_graph()\n",
    "tests.test_nn_image_inputs(neural_net_image_input)\n",
    "tests.test_nn_label_inputs(neural_net_label_input)\n",
    "tests.test_nn_keep_prob_inputs(neural_net_keep_prob_input)"
   ]
  },
  {
   "cell_type": "markdown",
   "metadata": {},
   "source": [
    "### Convolution and Max Pooling Layer\n",
    "Convolution layers have a lot of success with images. For this code cell, you should implement the function `conv2d_maxpool` to apply convolution then max pooling:\n",
    "* Create the weight and bias using `conv_ksize`, `conv_num_outputs` and the shape of `x_tensor`.\n",
    "* Apply a convolution to `x_tensor` using weight and `conv_strides`.\n",
    " * We recommend you use same padding, but you're welcome to use any padding.\n",
    "* Add bias\n",
    "* Add a nonlinear activation to the convolution.\n",
    "* Apply Max Pooling using `pool_ksize` and `pool_strides`.\n",
    " * We recommend you use same padding, but you're welcome to use any padding.\n",
    "\n",
    "**Note:** You **can't** use [TensorFlow Layers](https://www.tensorflow.org/api_docs/python/tf/layers) or [TensorFlow Layers (contrib)](https://www.tensorflow.org/api_guides/python/contrib.layers) for **this** layer, but you can still use TensorFlow's [Neural Network](https://www.tensorflow.org/api_docs/python/tf/nn) package. You may still use the shortcut option for all the **other** layers.\n",
    "\n",
    "** Hint: **\n",
    "\n",
    "When unpacking values as an argument in Python, look into the [unpacking](https://docs.python.org/3/tutorial/controlflow.html#unpacking-argument-lists) operator. "
   ]
  },
  {
   "cell_type": "code",
   "execution_count": 105,
   "metadata": {},
   "outputs": [
    {
     "name": "stdout",
     "output_type": "stream",
     "text": [
      "Tests Passed\n"
     ]
    }
   ],
   "source": [
    "import math\n",
    "\n",
    "def conv2d_maxpool(x_tensor, conv_num_outputs, conv_ksize, conv_strides, pool_ksize, pool_strides):\n",
    "    \"\"\"\n",
    "    Apply convolution then max pooling to x_tensor\n",
    "    :param x_tensor: TensorFlow Tensor\n",
    "    :param conv_num_outputs: Number of outputs for the convolutional layer\n",
    "    :param conv_ksize: kernal size 2-D Tuple for the convolutional layer\n",
    "    :param conv_strides: Stride 2-D Tuple for convolution\n",
    "    :param pool_ksize: kernal size 2-D Tuple for pool\n",
    "    :param pool_strides: Stride 2-D Tuple for pool\n",
    "    : return: A tensor that represents convolution and max pooling of x_tensor\n",
    "    \"\"\"\n",
    "    # TODO: Implement Function\n",
    "    #print(x_tensor.shape, conv_num_outputs, conv_ksize, conv_strides, pool_ksize, pool_strides[1])\n",
    "    input_weight_params = [conv_ksize[0],conv_ksize[1],x_tensor.shape[3].value, conv_num_outputs]\n",
    "    #print('input_weight_params is: ',input_weight_params)\n",
    "    weights = tf.Variable(tf.truncated_normal((input_weight_params),stddev = 0.1))\n",
    "    bias = tf.Variable(tf.zeros(conv_num_outputs))\n",
    "    c_strides = [1,conv_strides[0],conv_strides[1],1]\n",
    "    pool_strides_ = [1,pool_strides[0],pool_strides[1],1]\n",
    "    padding = 'SAME'\n",
    "    \n",
    "    \n",
    "    conv2d = tf.add(tf.nn.conv2d(x_tensor, weights, c_strides, padding), bias)\n",
    "    activation = tf.nn.relu(conv2d)\n",
    "    \n",
    "    pool_ksize_ = [1,pool_ksize[0],pool_ksize[1],1]\n",
    "    #print(conv2d,pool_ksize_,pool_strides_,padding)\n",
    "    return tf.nn.max_pool(activation, pool_ksize_, pool_strides_, padding)\n",
    "    \n",
    "     \n",
    "\n",
    "\n",
    "\"\"\"\n",
    "DON'T MODIFY ANYTHING IN THIS CELL THAT IS BELOW THIS LINE\n",
    "\"\"\"\n",
    "tests.test_con_pool(conv2d_maxpool)"
   ]
  },
  {
   "cell_type": "markdown",
   "metadata": {},
   "source": [
    "### Flatten Layer\n",
    "Implement the `flatten` function to change the dimension of `x_tensor` from a 4-D tensor to a 2-D tensor.  The output should be the shape (*Batch Size*, *Flattened Image Size*). Shortcut option: you can use classes from the [TensorFlow Layers](https://www.tensorflow.org/api_docs/python/tf/layers) or [TensorFlow Layers (contrib)](https://www.tensorflow.org/api_guides/python/contrib.layers) packages for this layer. For more of a challenge, only use other TensorFlow packages."
   ]
  },
  {
   "cell_type": "code",
   "execution_count": 4,
   "metadata": {
    "scrolled": false
   },
   "outputs": [
    {
     "name": "stdout",
     "output_type": "stream",
     "text": [
      "Tensor(\"strided_slice:0\", shape=(), dtype=int32)\n",
      "Tests Passed\n"
     ]
    }
   ],
   "source": [
    "def flatten(x_tensor):\n",
    "    \"\"\"\n",
    "    Flatten x_tensor to (Batch Size, Flattened Image Size)\n",
    "    : x_tensor: A tensor of size (Batch Size, ...), where ... are the image dimensions.\n",
    "    : return: A tensor of size (Batch Size, Flattened Image Size).\n",
    "    \"\"\"\n",
    "    # TODO: Implement Function\n",
    "    print(tf.shape(x_tensor)[0])\n",
    "    result = tf.reshape(x_tensor, [tf.shape(x_tensor)[0],x_tensor.shape[1].value * x_tensor.shape[2].value * x_tensor.shape[3].value], name=None)\n",
    "    #print(result.get_shape().as_list())\n",
    "        \n",
    "    return result\n",
    "\n",
    "\n",
    "\"\"\"\n",
    "DON'T MODIFY ANYTHING IN THIS CELL THAT IS BELOW THIS LINE\n",
    "\"\"\"\n",
    "tests.test_flatten(flatten)"
   ]
  },
  {
   "cell_type": "markdown",
   "metadata": {},
   "source": [
    "### Fully-Connected Layer\n",
    "Implement the `fully_conn` function to apply a fully connected layer to `x_tensor` with the shape (*Batch Size*, *num_outputs*). Shortcut option: you can use classes from the [TensorFlow Layers](https://www.tensorflow.org/api_docs/python/tf/layers) or [TensorFlow Layers (contrib)](https://www.tensorflow.org/api_guides/python/contrib.layers) packages for this layer. For more of a challenge, only use other TensorFlow packages."
   ]
  },
  {
   "cell_type": "code",
   "execution_count": 103,
   "metadata": {},
   "outputs": [
    {
     "name": "stdout",
     "output_type": "stream",
     "text": [
      "[128, 40]\n",
      "Tests Passed\n"
     ]
    }
   ],
   "source": [
    "def fully_conn(x_tensor, num_outputs):\n",
    "    \"\"\"\n",
    "    Apply a fully connected layer to x_tensor using weight and bias\n",
    "    : x_tensor: A 2-D tensor where the first dimension is batch size.\n",
    "    : num_outputs: The number of output that the new tensor should be.\n",
    "    : return: A 2-D tensor where the second dimension is num_outputs.\n",
    "    \"\"\"\n",
    "    # TODO: Implement Function\n",
    "    print([x_tensor.shape[1].value,num_outputs])\n",
    "    shape = [x_tensor.shape[1].value,num_outputs]\n",
    "    weight = tf.Variable(tf.truncated_normal(shape,stddev=0.1,dtype=tf.float32))\n",
    "    bias = tf.Variable(tf.zeros(num_outputs,dtype=tf.float32))\n",
    "    fully = tf.add(tf.matmul(x_tensor, weight), bias)\n",
    "    fully = tf.nn.relu(fully)\n",
    "    return fully\n",
    "\n",
    "\n",
    "\"\"\"\n",
    "DON'T MODIFY ANYTHING IN THIS CELL THAT IS BELOW THIS LINE\n",
    "\"\"\"\n",
    "tests.test_fully_conn(fully_conn)"
   ]
  },
  {
   "cell_type": "markdown",
   "metadata": {},
   "source": [
    "### Output Layer\n",
    "Implement the `output` function to apply a fully connected layer to `x_tensor` with the shape (*Batch Size*, *num_outputs*). Shortcut option: you can use classes from the [TensorFlow Layers](https://www.tensorflow.org/api_docs/python/tf/layers) or [TensorFlow Layers (contrib)](https://www.tensorflow.org/api_guides/python/contrib.layers) packages for this layer. For more of a challenge, only use other TensorFlow packages.\n",
    "\n",
    "**Note:** Activation, softmax, or cross entropy should **not** be applied to this."
   ]
  },
  {
   "cell_type": "code",
   "execution_count": 104,
   "metadata": {},
   "outputs": [
    {
     "name": "stdout",
     "output_type": "stream",
     "text": [
      "Tests Passed\n"
     ]
    }
   ],
   "source": [
    "def output(x_tensor, num_outputs):\n",
    "    \"\"\"\n",
    "    Apply a output layer to x_tensor using weight and bias\n",
    "    : x_tensor: A 2-D tensor where the first dimension is batch size.\n",
    "    : num_outputs: The number of output that the new tensor should be.\n",
    "    : return: A 2-D tensor where the second dimension is num_outputs.\n",
    "    \"\"\"\n",
    "    # TODO: Implement Function\n",
    "    #print([x_tensor.shape[1].value,num_outputs])\n",
    "    shape = [x_tensor.shape[1].value,num_outputs]\n",
    "    weight = tf.Variable(tf.truncated_normal(shape,stddev=0.1,dtype=tf.float32))\n",
    "    bias = tf.Variable(tf.zeros(num_outputs,dtype=tf.float32))\n",
    "    return tf.add(tf.matmul(x_tensor, weight), bias)\n",
    "\n",
    "\n",
    "\"\"\"\n",
    "DON'T MODIFY ANYTHING IN THIS CELL THAT IS BELOW THIS LINE\n",
    "\"\"\"\n",
    "tests.test_output(output)"
   ]
  },
  {
   "cell_type": "markdown",
   "metadata": {},
   "source": [
    "### Create Convolutional Model\n",
    "Implement the function `conv_net` to create a convolutional neural network model. The function takes in a batch of images, `x`, and outputs logits.  Use the layers you created above to create this model:\n",
    "\n",
    "* Apply 1, 2, or 3 Convolution and Max Pool layers\n",
    "* Apply a Flatten Layer\n",
    "* Apply 1, 2, or 3 Fully Connected Layers\n",
    "* Apply an Output Layer\n",
    "* Return the output\n",
    "* Apply [TensorFlow's Dropout](https://www.tensorflow.org/api_docs/python/tf/nn/dropout) to one or more layers in the model using `keep_prob`. "
   ]
  },
  {
   "cell_type": "code",
   "execution_count": 140,
   "metadata": {},
   "outputs": [
    {
     "name": "stdout",
     "output_type": "stream",
     "text": [
      "Tensor(\"strided_slice:0\", shape=(), dtype=int32)\n",
      "[2048, 2056]\n",
      "[2056, 2056]\n",
      "[2056, 1024]\n",
      "Tensor(\"strided_slice_2:0\", shape=(), dtype=int32)\n",
      "[2048, 2056]\n",
      "[2056, 2056]\n",
      "[2056, 1024]\n",
      "Neural Network Built!\n"
     ]
    }
   ],
   "source": [
    "def conv_net(x, keep_prob):\n",
    "    \"\"\"\n",
    "    Create a convolutional neural network model\n",
    "    : x: Placeholder tensor that holds image data.\n",
    "    : keep_prob: Placeholder tensor that hold dropout keep probability.\n",
    "    : return: Tensor that represents logits\n",
    "    \"\"\"\n",
    "    #keep_prob = tf.placeholder(tf.float32)\n",
    "    \n",
    "    # TODO: Apply 1, 2, or 3 Convolution and Max Pool layers\n",
    "    #    Play around with different number of outputs, kernel size and stride\n",
    "    # Function Definition from Above:\n",
    "    #    conv2d_maxpool(x_tensor, conv_num_outputs, conv_ksize, conv_strides, pool_ksize, pool_strides)\n",
    "    \n",
    "    conv_ksize = (5,5)\n",
    "    conv_strides = (1,1)\n",
    "    pool_ksize = (2,2)\n",
    "    pool_strides = (2,2)\n",
    "    conv_num_outputs = 32\n",
    "    \n",
    "    conv_layer = conv2d_maxpool(x, conv_num_outputs, conv_ksize, conv_strides, pool_ksize, pool_strides)\n",
    "    #conv_layer = conv2d_maxpool(x, conv_num_outputs, conv_ksize, conv_strides, pool_ksize, pool_strides)\n",
    "    #conv_layer = conv2d_maxpool(conv_layer, conv_num_outputs = 64, conv_ksize = (5,5),conv_strides = (2,2), pool_ksize = (5, 5),pool_strides = (2,2))\n",
    "    \n",
    "    conv_layer = conv2d_maxpool(conv_layer, conv_num_outputs = 64, conv_ksize = (5,5),conv_strides = (1,1), pool_ksize = (2,2),pool_strides = (2,2))\n",
    "    #conv_layer = tf.nn.dropout(conv_layer, keep_prob)\n",
    "    conv_layer = conv2d_maxpool(conv_layer, conv_num_outputs = 128, conv_ksize = (5,5),conv_strides = (1,1), pool_ksize = (2,2),pool_strides = (2,2))\n",
    "    \n",
    "    # TODO: Apply a Flatten Layer\n",
    "    # Function Definition from Above:\n",
    "    #   flatten(x_tensor)\n",
    "    \n",
    "    conv_layer = flatten(conv_layer)\n",
    "\n",
    "    # TODO: Apply 1, 2, or 3 Fully Connected Layers\n",
    "    #    Play around with different number of outputs\n",
    "    # Function Definition from Above:\n",
    "    #   fully_conn(x_tensor, num_outputs)\n",
    "    \n",
    "    conv_layer = fully_conn(conv_layer, 2056)\n",
    "    #conv_layer = fully_conn(conv_layer, 512)\n",
    "    #conv_layer = tf.nn.dropout(conv_layer, keep_prob)\n",
    "    conv_layer = fully_conn(conv_layer, 2056)\n",
    "    conv_layer = tf.nn.dropout(conv_layer, keep_prob)\n",
    "    conv_layer = fully_conn(conv_layer, 1024)\n",
    "    \n",
    "    #\n",
    "    #\n",
    "    #conv_layer = fully_conn(conv_layer, 2056)\n",
    "    #conv_layer = tf.nn.dropout(conv_layer, keep_prob)\n",
    "    #conv_layer = fully_conn(conv_layer, 512)\n",
    "    #conv_layer = tf.nn.dropout(conv_layer, keep_prob)\n",
    "    #conv_layer = fully_conn(conv_layer, 2056)\n",
    "    # TODO: Apply an Output Layer\n",
    "    #    Set this to the number of classes\n",
    "    # Function Definition from Above:\n",
    "    #   output(x_tensor, num_outputs)\n",
    "    output_layer = output(conv_layer, 10)\n",
    "    \n",
    "    # TODO: return output\n",
    "    return output_layer\n",
    "\n",
    "\n",
    "\n",
    "\"\"\"\n",
    "DON'T MODIFY ANYTHING IN THIS CELL THAT IS BELOW THIS LINE\n",
    "\"\"\"\n",
    "\n",
    "##############################\n",
    "## Build the Neural Network ##\n",
    "##############################\n",
    "\n",
    "# Remove previous weights, bias, inputs, etc..\n",
    "tf.reset_default_graph()\n",
    "\n",
    "# Inputs\n",
    "x = neural_net_image_input((32, 32, 3))\n",
    "y = neural_net_label_input(10)\n",
    "keep_prob = neural_net_keep_prob_input()\n",
    "\n",
    "# Model\n",
    "logits = conv_net(x, keep_prob)\n",
    "\n",
    "# Name logits Tensor, so that is can be loaded from disk after training\n",
    "logits = tf.identity(logits, name='logits')\n",
    "\n",
    "# Loss and Optimizer\n",
    "cost = tf.reduce_mean(tf.nn.softmax_cross_entropy_with_logits(logits=logits, labels=y))\n",
    "optimizer = tf.train.AdamOptimizer().minimize(cost)\n",
    "\n",
    "# Accuracy\n",
    "correct_pred = tf.equal(tf.argmax(logits, 1), tf.argmax(y, 1))\n",
    "accuracy = tf.reduce_mean(tf.cast(correct_pred, tf.float32), name='accuracy')\n",
    "\n",
    "tests.test_conv_net(conv_net)"
   ]
  },
  {
   "cell_type": "markdown",
   "metadata": {},
   "source": [
    "## Train the Neural Network\n",
    "### Single Optimization\n",
    "Implement the function `train_neural_network` to do a single optimization.  The optimization should use `optimizer` to optimize in `session` with a `feed_dict` of the following:\n",
    "* `x` for image input\n",
    "* `y` for labels\n",
    "* `keep_prob` for keep probability for dropout\n",
    "\n",
    "This function will be called for each batch, so `tf.global_variables_initializer()` has already been called.\n",
    "\n",
    "Note: Nothing needs to be returned. This function is only optimizing the neural network."
   ]
  },
  {
   "cell_type": "code",
   "execution_count": 24,
   "metadata": {},
   "outputs": [
    {
     "name": "stdout",
     "output_type": "stream",
     "text": [
      "Tests Passed\n"
     ]
    }
   ],
   "source": [
    "def train_neural_network(session, optimizer, keep_probability, feature_batch, label_batch):\n",
    "    \"\"\"\n",
    "    Optimize the session on a batch of images and labels\n",
    "    : session: Current TensorFlow session\n",
    "    : optimizer: TensorFlow optimizer function\n",
    "    : keep_probability: keep probability\n",
    "    : feature_batch: Batch of Numpy image data\n",
    "    : label_batch: Batch of Numpy label data\n",
    "    \"\"\"\n",
    "    # TODO: Implement Function\n",
    "    #session.run(optimizer,feed_dict={x: feature_batch, y: label_batch, keep_prob: keep_probability})\n",
    "    session.run(optimizer, feed_dict={x:feature_batch, y:label_batch, keep_prob: keep_probability})\n",
    "    \n",
    "\n",
    "\n",
    "\"\"\"\n",
    "DON'T MODIFY ANYTHING IN THIS CELL THAT IS BELOW THIS LINE\n",
    "\"\"\"\n",
    "tests.test_train_nn(train_neural_network)"
   ]
  },
  {
   "cell_type": "markdown",
   "metadata": {},
   "source": [
    "### Show Stats\n",
    "Implement the function `print_stats` to print loss and validation accuracy.  Use the global variables `valid_features` and `valid_labels` to calculate validation accuracy.  Use a keep probability of `1.0` to calculate the loss and validation accuracy."
   ]
  },
  {
   "cell_type": "code",
   "execution_count": 9,
   "metadata": {
    "collapsed": true
   },
   "outputs": [],
   "source": [
    "def print_stats(session, feature_batch, label_batch, cost, accuracy):\n",
    "    \"\"\"\n",
    "    Print information about loss and validation accuracy\n",
    "    : session: Current TensorFlow session\n",
    "    : feature_batch: Batch of Numpy image data\n",
    "    : label_batch: Batch of Numpy label data\n",
    "    : cost: TensorFlow cost function\n",
    "    : accuracy: TensorFlow accuracy function\n",
    "    \"\"\"\n",
    "    # TODO: Implement Function\n",
    "    loss = session.run(cost, feed_dict={x:feature_batch,y:label_batch,keep_prob:1.0})\n",
    "    valid_accuracy = session.run(accuracy, feed_dict={x:valid_features,y:valid_labels,keep_prob:1.0})\n",
    "    print('Loss: {:4f} Validation Accuracy: {:6f}'.format(loss, valid_accuracy))"
   ]
  },
  {
   "cell_type": "markdown",
   "metadata": {},
   "source": [
    "### Hyperparameters\n",
    "Tune the following parameters:\n",
    "* Set `epochs` to the number of iterations until the network stops learning or start overfitting\n",
    "* Set `batch_size` to the highest number that your machine has memory for.  Most people set them to common sizes of memory:\n",
    " * 64\n",
    " * 128\n",
    " * 256\n",
    " * ...\n",
    "* Set `keep_probability` to the probability of keeping a node using dropout"
   ]
  },
  {
   "cell_type": "code",
   "execution_count": 146,
   "metadata": {
    "collapsed": true
   },
   "outputs": [],
   "source": [
    "# TODO: Tune Parameters\n",
    "epochs = 40\n",
    "batch_size = 256\n",
    "keep_probability = 0.8"
   ]
  },
  {
   "cell_type": "markdown",
   "metadata": {},
   "source": [
    "### Train on a Single CIFAR-10 Batch\n",
    "Instead of training the neural network on all the CIFAR-10 batches of data, let's use a single batch. This should save time while you iterate on the model to get a better accuracy.  Once the final validation accuracy is 50% or greater, run the model on all the data in the next section."
   ]
  },
  {
   "cell_type": "code",
   "execution_count": 147,
   "metadata": {},
   "outputs": [
    {
     "name": "stdout",
     "output_type": "stream",
     "text": [
      "Checking the Training on a Single Batch...\n",
      "Epoch  1, CIFAR-10 Batch 1:  Loss: 1.963490 Validation Accuracy: 0.236000\n",
      "Epoch  2, CIFAR-10 Batch 1:  Loss: 1.491777 Validation Accuracy: 0.373400\n",
      "Epoch  3, CIFAR-10 Batch 1:  Loss: 0.777680 Validation Accuracy: 0.419800\n",
      "Epoch  4, CIFAR-10 Batch 1:  Loss: 0.368807 Validation Accuracy: 0.439400\n",
      "Epoch  5, CIFAR-10 Batch 1:  Loss: 0.145679 Validation Accuracy: 0.462600\n",
      "Epoch  6, CIFAR-10 Batch 1:  Loss: 0.045468 Validation Accuracy: 0.459000\n",
      "Epoch  7, CIFAR-10 Batch 1:  Loss: 0.032882 Validation Accuracy: 0.458600\n",
      "Epoch  8, CIFAR-10 Batch 1:  Loss: 0.044518 Validation Accuracy: 0.451200\n",
      "Epoch  9, CIFAR-10 Batch 1:  Loss: 0.057159 Validation Accuracy: 0.415000\n",
      "Epoch 10, CIFAR-10 Batch 1:  Loss: 0.020170 Validation Accuracy: 0.450400\n",
      "Epoch 11, CIFAR-10 Batch 1:  Loss: 0.020042 Validation Accuracy: 0.436000\n",
      "Epoch 12, CIFAR-10 Batch 1:  Loss: 0.009720 Validation Accuracy: 0.444000\n",
      "Epoch 13, CIFAR-10 Batch 1:  Loss: 0.006890 Validation Accuracy: 0.447200\n",
      "Epoch 14, CIFAR-10 Batch 1:  Loss: 0.011002 Validation Accuracy: 0.430400\n",
      "Epoch 15, CIFAR-10 Batch 1:  Loss: 0.006178 Validation Accuracy: 0.452600\n",
      "Epoch 16, CIFAR-10 Batch 1:  Loss: 0.012104 Validation Accuracy: 0.436200\n",
      "Epoch 17, CIFAR-10 Batch 1:  Loss: 0.007501 Validation Accuracy: 0.433200\n",
      "Epoch 18, CIFAR-10 Batch 1:  Loss: 0.003523 Validation Accuracy: 0.466200\n",
      "Epoch 19, CIFAR-10 Batch 1:  Loss: 0.002495 Validation Accuracy: 0.446400\n",
      "Epoch 20, CIFAR-10 Batch 1:  Loss: 0.003143 Validation Accuracy: 0.435200\n",
      "Epoch 21, CIFAR-10 Batch 1:  Loss: 0.000543 Validation Accuracy: 0.477400\n",
      "Epoch 22, CIFAR-10 Batch 1:  Loss: 0.000514 Validation Accuracy: 0.468000\n",
      "Epoch 23, CIFAR-10 Batch 1:  Loss: 0.000180 Validation Accuracy: 0.479600\n",
      "Epoch 24, CIFAR-10 Batch 1:  Loss: 0.000295 Validation Accuracy: 0.484400\n",
      "Epoch 25, CIFAR-10 Batch 1:  Loss: 0.000296 Validation Accuracy: 0.487800\n",
      "Epoch 26, CIFAR-10 Batch 1:  Loss: 0.000034 Validation Accuracy: 0.499400\n",
      "Epoch 27, CIFAR-10 Batch 1:  Loss: 0.000142 Validation Accuracy: 0.490000\n",
      "Epoch 28, CIFAR-10 Batch 1:  Loss: 0.000015 Validation Accuracy: 0.494200\n",
      "Epoch 29, CIFAR-10 Batch 1:  Loss: 0.000019 Validation Accuracy: 0.494000\n",
      "Epoch 30, CIFAR-10 Batch 1:  Loss: 0.000010 Validation Accuracy: 0.491200\n",
      "Epoch 31, CIFAR-10 Batch 1:  Loss: 0.000006 Validation Accuracy: 0.494600\n",
      "Epoch 32, CIFAR-10 Batch 1:  Loss: 0.000005 Validation Accuracy: 0.496600\n",
      "Epoch 33, CIFAR-10 Batch 1:  Loss: 0.000005 Validation Accuracy: 0.497200\n",
      "Epoch 34, CIFAR-10 Batch 1:  Loss: 0.000005 Validation Accuracy: 0.498200\n",
      "Epoch 35, CIFAR-10 Batch 1:  Loss: 0.000005 Validation Accuracy: 0.496600\n",
      "Epoch 36, CIFAR-10 Batch 1:  Loss: 0.000004 Validation Accuracy: 0.498400\n",
      "Epoch 37, CIFAR-10 Batch 1:  Loss: 0.000004 Validation Accuracy: 0.499200\n",
      "Epoch 38, CIFAR-10 Batch 1:  Loss: 0.000004 Validation Accuracy: 0.497600\n",
      "Epoch 39, CIFAR-10 Batch 1:  Loss: 0.000003 Validation Accuracy: 0.499000\n",
      "Epoch 40, CIFAR-10 Batch 1:  Loss: 0.000003 Validation Accuracy: 0.502000\n"
     ]
    }
   ],
   "source": [
    "\"\"\"\n",
    "DON'T MODIFY ANYTHING IN THIS CELL\n",
    "\"\"\"\n",
    "print('Checking the Training on a Single Batch...')\n",
    "with tf.Session() as sess:\n",
    "    # Initializing the variables\n",
    "    sess.run(tf.global_variables_initializer())\n",
    "    \n",
    "    # Training cycle\n",
    "    for epoch in range(epochs):\n",
    "        batch_i = 1\n",
    "        for batch_features, batch_labels in helper.load_preprocess_training_batch(batch_i, batch_size):\n",
    "            train_neural_network(sess, optimizer, keep_probability, batch_features, batch_labels)\n",
    "        print('Epoch {:>2}, CIFAR-10 Batch {}:  '.format(epoch + 1, batch_i), end='')\n",
    "        print_stats(sess, batch_features, batch_labels, cost, accuracy)"
   ]
  },
  {
   "cell_type": "markdown",
   "metadata": {},
   "source": [
    "### Fully Train the Model\n",
    "Now that you got a good accuracy with a single CIFAR-10 batch, try it with all five batches."
   ]
  },
  {
   "cell_type": "code",
   "execution_count": 148,
   "metadata": {},
   "outputs": [
    {
     "name": "stdout",
     "output_type": "stream",
     "text": [
      "Training...\n",
      "Epoch  1, CIFAR-10 Batch 1:  Loss: 2.063036 Validation Accuracy: 0.252200\n",
      "Epoch  1, CIFAR-10 Batch 2:  Loss: 1.596579 Validation Accuracy: 0.360000\n",
      "Epoch  1, CIFAR-10 Batch 3:  Loss: 1.538448 Validation Accuracy: 0.397800\n",
      "Epoch  1, CIFAR-10 Batch 4:  Loss: 1.362199 Validation Accuracy: 0.427000\n",
      "Epoch  1, CIFAR-10 Batch 5:  Loss: 1.452671 Validation Accuracy: 0.444600\n",
      "Epoch  2, CIFAR-10 Batch 1:  Loss: 1.466235 Validation Accuracy: 0.451400\n",
      "Epoch  2, CIFAR-10 Batch 2:  Loss: 1.062736 Validation Accuracy: 0.456400\n",
      "Epoch  2, CIFAR-10 Batch 3:  Loss: 0.960480 Validation Accuracy: 0.478000\n",
      "Epoch  2, CIFAR-10 Batch 4:  Loss: 0.868557 Validation Accuracy: 0.476200\n",
      "Epoch  2, CIFAR-10 Batch 5:  Loss: 0.879655 Validation Accuracy: 0.492000\n",
      "Epoch  3, CIFAR-10 Batch 1:  Loss: 0.800791 Validation Accuracy: 0.499800\n",
      "Epoch  3, CIFAR-10 Batch 2:  Loss: 0.599174 Validation Accuracy: 0.487600\n",
      "Epoch  3, CIFAR-10 Batch 3:  Loss: 0.562590 Validation Accuracy: 0.511000\n",
      "Epoch  3, CIFAR-10 Batch 4:  Loss: 0.465020 Validation Accuracy: 0.520800\n",
      "Epoch  3, CIFAR-10 Batch 5:  Loss: 0.502296 Validation Accuracy: 0.527800\n",
      "Epoch  4, CIFAR-10 Batch 1:  Loss: 0.466689 Validation Accuracy: 0.517000\n",
      "Epoch  4, CIFAR-10 Batch 2:  Loss: 0.300899 Validation Accuracy: 0.516200\n",
      "Epoch  4, CIFAR-10 Batch 3:  Loss: 0.343899 Validation Accuracy: 0.528600\n",
      "Epoch  4, CIFAR-10 Batch 4:  Loss: 0.277423 Validation Accuracy: 0.544200\n",
      "Epoch  4, CIFAR-10 Batch 5:  Loss: 0.243301 Validation Accuracy: 0.544800\n",
      "Epoch  5, CIFAR-10 Batch 1:  Loss: 0.266384 Validation Accuracy: 0.541200\n",
      "Epoch  5, CIFAR-10 Batch 2:  Loss: 0.182324 Validation Accuracy: 0.529800\n",
      "Epoch  5, CIFAR-10 Batch 3:  Loss: 0.195181 Validation Accuracy: 0.525200\n",
      "Epoch  5, CIFAR-10 Batch 4:  Loss: 0.169453 Validation Accuracy: 0.542400\n",
      "Epoch  5, CIFAR-10 Batch 5:  Loss: 0.131467 Validation Accuracy: 0.531200\n",
      "Epoch  6, CIFAR-10 Batch 1:  Loss: 0.152661 Validation Accuracy: 0.543600\n",
      "Epoch  6, CIFAR-10 Batch 2:  Loss: 0.098122 Validation Accuracy: 0.501400\n",
      "Epoch  6, CIFAR-10 Batch 3:  Loss: 0.111149 Validation Accuracy: 0.506000\n",
      "Epoch  6, CIFAR-10 Batch 4:  Loss: 0.121593 Validation Accuracy: 0.551600\n",
      "Epoch  6, CIFAR-10 Batch 5:  Loss: 0.081697 Validation Accuracy: 0.548000\n",
      "Epoch  7, CIFAR-10 Batch 1:  Loss: 0.096925 Validation Accuracy: 0.533400\n",
      "Epoch  7, CIFAR-10 Batch 2:  Loss: 0.048747 Validation Accuracy: 0.532000\n",
      "Epoch  7, CIFAR-10 Batch 3:  Loss: 0.071706 Validation Accuracy: 0.524400\n",
      "Epoch  7, CIFAR-10 Batch 4:  Loss: 0.081492 Validation Accuracy: 0.550200\n",
      "Epoch  7, CIFAR-10 Batch 5:  Loss: 0.080516 Validation Accuracy: 0.557400\n",
      "Epoch  8, CIFAR-10 Batch 1:  Loss: 0.100117 Validation Accuracy: 0.554200\n",
      "Epoch  8, CIFAR-10 Batch 2:  Loss: 0.100445 Validation Accuracy: 0.512800\n",
      "Epoch  8, CIFAR-10 Batch 3:  Loss: 0.081354 Validation Accuracy: 0.535800\n",
      "Epoch  8, CIFAR-10 Batch 4:  Loss: 0.073118 Validation Accuracy: 0.543800\n",
      "Epoch  8, CIFAR-10 Batch 5:  Loss: 0.039643 Validation Accuracy: 0.560000\n",
      "Epoch  9, CIFAR-10 Batch 1:  Loss: 0.062463 Validation Accuracy: 0.555000\n",
      "Epoch  9, CIFAR-10 Batch 2:  Loss: 0.076447 Validation Accuracy: 0.538800\n",
      "Epoch  9, CIFAR-10 Batch 3:  Loss: 0.076455 Validation Accuracy: 0.501800\n",
      "Epoch  9, CIFAR-10 Batch 4:  Loss: 0.050950 Validation Accuracy: 0.556400\n",
      "Epoch  9, CIFAR-10 Batch 5:  Loss: 0.033066 Validation Accuracy: 0.553800\n",
      "Epoch 10, CIFAR-10 Batch 1:  Loss: 0.038755 Validation Accuracy: 0.537600\n",
      "Epoch 10, CIFAR-10 Batch 2:  Loss: 0.060120 Validation Accuracy: 0.537000\n",
      "Epoch 10, CIFAR-10 Batch 3:  Loss: 0.032497 Validation Accuracy: 0.518600\n",
      "Epoch 10, CIFAR-10 Batch 4:  Loss: 0.059450 Validation Accuracy: 0.549600\n",
      "Epoch 10, CIFAR-10 Batch 5:  Loss: 0.022868 Validation Accuracy: 0.567000\n",
      "Epoch 11, CIFAR-10 Batch 1:  Loss: 0.018241 Validation Accuracy: 0.524600\n",
      "Epoch 11, CIFAR-10 Batch 2:  Loss: 0.030612 Validation Accuracy: 0.521200\n",
      "Epoch 11, CIFAR-10 Batch 3:  Loss: 0.024719 Validation Accuracy: 0.533200\n",
      "Epoch 11, CIFAR-10 Batch 4:  Loss: 0.043865 Validation Accuracy: 0.557000\n",
      "Epoch 11, CIFAR-10 Batch 5:  Loss: 0.023747 Validation Accuracy: 0.539600\n",
      "Epoch 12, CIFAR-10 Batch 1:  Loss: 0.031424 Validation Accuracy: 0.509000\n",
      "Epoch 12, CIFAR-10 Batch 2:  Loss: 0.028205 Validation Accuracy: 0.531400\n",
      "Epoch 12, CIFAR-10 Batch 3:  Loss: 0.019179 Validation Accuracy: 0.552800\n",
      "Epoch 12, CIFAR-10 Batch 4:  Loss: 0.040150 Validation Accuracy: 0.535800\n",
      "Epoch 12, CIFAR-10 Batch 5:  Loss: 0.015632 Validation Accuracy: 0.545200\n",
      "Epoch 13, CIFAR-10 Batch 1:  Loss: 0.016106 Validation Accuracy: 0.524400\n",
      "Epoch 13, CIFAR-10 Batch 2:  Loss: 0.015230 Validation Accuracy: 0.561600\n",
      "Epoch 13, CIFAR-10 Batch 3:  Loss: 0.014164 Validation Accuracy: 0.537000\n",
      "Epoch 13, CIFAR-10 Batch 4:  Loss: 0.022734 Validation Accuracy: 0.539400\n",
      "Epoch 13, CIFAR-10 Batch 5:  Loss: 0.014535 Validation Accuracy: 0.566400\n",
      "Epoch 14, CIFAR-10 Batch 1:  Loss: 0.031010 Validation Accuracy: 0.535400\n",
      "Epoch 14, CIFAR-10 Batch 2:  Loss: 0.017003 Validation Accuracy: 0.544400\n",
      "Epoch 14, CIFAR-10 Batch 3:  Loss: 0.014307 Validation Accuracy: 0.534000\n",
      "Epoch 14, CIFAR-10 Batch 4:  Loss: 0.011207 Validation Accuracy: 0.567400\n",
      "Epoch 14, CIFAR-10 Batch 5:  Loss: 0.010280 Validation Accuracy: 0.565800\n",
      "Epoch 15, CIFAR-10 Batch 1:  Loss: 0.010830 Validation Accuracy: 0.554800\n",
      "Epoch 15, CIFAR-10 Batch 2:  Loss: 0.003490 Validation Accuracy: 0.571200\n",
      "Epoch 15, CIFAR-10 Batch 3:  Loss: 0.010139 Validation Accuracy: 0.528200\n",
      "Epoch 15, CIFAR-10 Batch 4:  Loss: 0.015608 Validation Accuracy: 0.527000\n",
      "Epoch 15, CIFAR-10 Batch 5:  Loss: 0.004592 Validation Accuracy: 0.564000\n",
      "Epoch 16, CIFAR-10 Batch 1:  Loss: 0.012811 Validation Accuracy: 0.547800\n",
      "Epoch 16, CIFAR-10 Batch 2:  Loss: 0.010206 Validation Accuracy: 0.551200\n",
      "Epoch 16, CIFAR-10 Batch 3:  Loss: 0.011539 Validation Accuracy: 0.539000\n",
      "Epoch 16, CIFAR-10 Batch 4:  Loss: 0.006614 Validation Accuracy: 0.560400\n",
      "Epoch 16, CIFAR-10 Batch 5:  Loss: 0.005954 Validation Accuracy: 0.569200\n",
      "Epoch 17, CIFAR-10 Batch 1:  Loss: 0.002840 Validation Accuracy: 0.542600\n",
      "Epoch 17, CIFAR-10 Batch 2:  Loss: 0.004512 Validation Accuracy: 0.542200\n",
      "Epoch 17, CIFAR-10 Batch 3:  Loss: 0.005073 Validation Accuracy: 0.544600\n",
      "Epoch 17, CIFAR-10 Batch 4:  Loss: 0.006953 Validation Accuracy: 0.559400\n",
      "Epoch 17, CIFAR-10 Batch 5:  Loss: 0.004462 Validation Accuracy: 0.546600\n",
      "Epoch 18, CIFAR-10 Batch 1:  Loss: 0.003917 Validation Accuracy: 0.559400\n",
      "Epoch 18, CIFAR-10 Batch 2:  Loss: 0.005991 Validation Accuracy: 0.560800\n",
      "Epoch 18, CIFAR-10 Batch 3:  Loss: 0.002968 Validation Accuracy: 0.574000\n",
      "Epoch 18, CIFAR-10 Batch 4:  Loss: 0.004460 Validation Accuracy: 0.573800\n",
      "Epoch 18, CIFAR-10 Batch 5:  Loss: 0.023409 Validation Accuracy: 0.551600\n",
      "Epoch 19, CIFAR-10 Batch 1:  Loss: 0.001532 Validation Accuracy: 0.574600\n",
      "Epoch 19, CIFAR-10 Batch 2:  Loss: 0.003141 Validation Accuracy: 0.571000\n",
      "Epoch 19, CIFAR-10 Batch 3:  Loss: 0.002262 Validation Accuracy: 0.565800\n",
      "Epoch 19, CIFAR-10 Batch 4:  Loss: 0.002156 Validation Accuracy: 0.574000\n",
      "Epoch 19, CIFAR-10 Batch 5:  Loss: 0.001112 Validation Accuracy: 0.578200\n",
      "Epoch 20, CIFAR-10 Batch 1:  Loss: 0.003441 Validation Accuracy: 0.563600\n",
      "Epoch 20, CIFAR-10 Batch 2:  Loss: 0.003610 Validation Accuracy: 0.577600\n",
      "Epoch 20, CIFAR-10 Batch 3:  Loss: 0.017914 Validation Accuracy: 0.542400\n",
      "Epoch 20, CIFAR-10 Batch 4:  Loss: 0.009521 Validation Accuracy: 0.545000\n",
      "Epoch 20, CIFAR-10 Batch 5:  Loss: 0.000994 Validation Accuracy: 0.569200\n",
      "Epoch 21, CIFAR-10 Batch 1:  Loss: 0.004490 Validation Accuracy: 0.570800\n",
      "Epoch 21, CIFAR-10 Batch 2:  Loss: 0.004339 Validation Accuracy: 0.547600\n",
      "Epoch 21, CIFAR-10 Batch 3:  Loss: 0.001743 Validation Accuracy: 0.561400\n",
      "Epoch 21, CIFAR-10 Batch 4:  Loss: 0.002463 Validation Accuracy: 0.565400\n",
      "Epoch 21, CIFAR-10 Batch 5:  Loss: 0.003629 Validation Accuracy: 0.549800\n",
      "Epoch 22, CIFAR-10 Batch 1:  Loss: 0.005061 Validation Accuracy: 0.555800\n",
      "Epoch 22, CIFAR-10 Batch 2:  Loss: 0.012998 Validation Accuracy: 0.556200\n",
      "Epoch 22, CIFAR-10 Batch 3:  Loss: 0.007404 Validation Accuracy: 0.532200\n",
      "Epoch 22, CIFAR-10 Batch 4:  Loss: 0.009975 Validation Accuracy: 0.566000\n",
      "Epoch 22, CIFAR-10 Batch 5:  Loss: 0.002851 Validation Accuracy: 0.547000\n",
      "Epoch 23, CIFAR-10 Batch 1:  Loss: 0.001250 Validation Accuracy: 0.551800\n"
     ]
    },
    {
     "name": "stdout",
     "output_type": "stream",
     "text": [
      "Epoch 23, CIFAR-10 Batch 2:  Loss: 0.002671 Validation Accuracy: 0.562600\n",
      "Epoch 23, CIFAR-10 Batch 3:  Loss: 0.002185 Validation Accuracy: 0.555800\n",
      "Epoch 23, CIFAR-10 Batch 4:  Loss: 0.001317 Validation Accuracy: 0.575000\n",
      "Epoch 23, CIFAR-10 Batch 5:  Loss: 0.003855 Validation Accuracy: 0.557400\n",
      "Epoch 24, CIFAR-10 Batch 1:  Loss: 0.001157 Validation Accuracy: 0.583800\n",
      "Epoch 24, CIFAR-10 Batch 2:  Loss: 0.002883 Validation Accuracy: 0.562600\n",
      "Epoch 24, CIFAR-10 Batch 3:  Loss: 0.001141 Validation Accuracy: 0.551400\n",
      "Epoch 24, CIFAR-10 Batch 4:  Loss: 0.002597 Validation Accuracy: 0.571400\n",
      "Epoch 24, CIFAR-10 Batch 5:  Loss: 0.000549 Validation Accuracy: 0.584600\n",
      "Epoch 25, CIFAR-10 Batch 1:  Loss: 0.000106 Validation Accuracy: 0.575400\n",
      "Epoch 25, CIFAR-10 Batch 2:  Loss: 0.000782 Validation Accuracy: 0.568000\n",
      "Epoch 25, CIFAR-10 Batch 3:  Loss: 0.001393 Validation Accuracy: 0.550000\n",
      "Epoch 25, CIFAR-10 Batch 4:  Loss: 0.000877 Validation Accuracy: 0.573800\n",
      "Epoch 25, CIFAR-10 Batch 5:  Loss: 0.001671 Validation Accuracy: 0.575200\n",
      "Epoch 26, CIFAR-10 Batch 1:  Loss: 0.000219 Validation Accuracy: 0.572200\n",
      "Epoch 26, CIFAR-10 Batch 2:  Loss: 0.001041 Validation Accuracy: 0.566200\n",
      "Epoch 26, CIFAR-10 Batch 3:  Loss: 0.001209 Validation Accuracy: 0.541600\n",
      "Epoch 26, CIFAR-10 Batch 4:  Loss: 0.001174 Validation Accuracy: 0.563200\n",
      "Epoch 26, CIFAR-10 Batch 5:  Loss: 0.000649 Validation Accuracy: 0.585000\n",
      "Epoch 27, CIFAR-10 Batch 1:  Loss: 0.003203 Validation Accuracy: 0.552600\n",
      "Epoch 27, CIFAR-10 Batch 2:  Loss: 0.001240 Validation Accuracy: 0.573400\n",
      "Epoch 27, CIFAR-10 Batch 3:  Loss: 0.000212 Validation Accuracy: 0.573000\n",
      "Epoch 27, CIFAR-10 Batch 4:  Loss: 0.001160 Validation Accuracy: 0.550000\n",
      "Epoch 27, CIFAR-10 Batch 5:  Loss: 0.001042 Validation Accuracy: 0.571800\n",
      "Epoch 28, CIFAR-10 Batch 1:  Loss: 0.002209 Validation Accuracy: 0.564400\n",
      "Epoch 28, CIFAR-10 Batch 2:  Loss: 0.000339 Validation Accuracy: 0.572800\n",
      "Epoch 28, CIFAR-10 Batch 3:  Loss: 0.000524 Validation Accuracy: 0.578600\n",
      "Epoch 28, CIFAR-10 Batch 4:  Loss: 0.000092 Validation Accuracy: 0.577200\n",
      "Epoch 28, CIFAR-10 Batch 5:  Loss: 0.000984 Validation Accuracy: 0.573400\n",
      "Epoch 29, CIFAR-10 Batch 1:  Loss: 0.002462 Validation Accuracy: 0.567600\n",
      "Epoch 29, CIFAR-10 Batch 2:  Loss: 0.000581 Validation Accuracy: 0.568200\n",
      "Epoch 29, CIFAR-10 Batch 3:  Loss: 0.001031 Validation Accuracy: 0.557800\n",
      "Epoch 29, CIFAR-10 Batch 4:  Loss: 0.000267 Validation Accuracy: 0.557400\n",
      "Epoch 29, CIFAR-10 Batch 5:  Loss: 0.000209 Validation Accuracy: 0.572200\n",
      "Epoch 30, CIFAR-10 Batch 1:  Loss: 0.000101 Validation Accuracy: 0.572400\n",
      "Epoch 30, CIFAR-10 Batch 2:  Loss: 0.000582 Validation Accuracy: 0.571000\n",
      "Epoch 30, CIFAR-10 Batch 3:  Loss: 0.000685 Validation Accuracy: 0.575000\n",
      "Epoch 30, CIFAR-10 Batch 4:  Loss: 0.000366 Validation Accuracy: 0.578600\n",
      "Epoch 30, CIFAR-10 Batch 5:  Loss: 0.000443 Validation Accuracy: 0.570600\n",
      "Epoch 31, CIFAR-10 Batch 1:  Loss: 0.000425 Validation Accuracy: 0.579400\n",
      "Epoch 31, CIFAR-10 Batch 2:  Loss: 0.001292 Validation Accuracy: 0.572600\n",
      "Epoch 31, CIFAR-10 Batch 3:  Loss: 0.001029 Validation Accuracy: 0.576800\n",
      "Epoch 31, CIFAR-10 Batch 4:  Loss: 0.000396 Validation Accuracy: 0.578400\n",
      "Epoch 31, CIFAR-10 Batch 5:  Loss: 0.000511 Validation Accuracy: 0.571600\n",
      "Epoch 32, CIFAR-10 Batch 1:  Loss: 0.000353 Validation Accuracy: 0.576400\n",
      "Epoch 32, CIFAR-10 Batch 2:  Loss: 0.000991 Validation Accuracy: 0.572800\n",
      "Epoch 32, CIFAR-10 Batch 3:  Loss: 0.000594 Validation Accuracy: 0.572200\n",
      "Epoch 32, CIFAR-10 Batch 4:  Loss: 0.001655 Validation Accuracy: 0.568200\n",
      "Epoch 32, CIFAR-10 Batch 5:  Loss: 0.000460 Validation Accuracy: 0.569400\n",
      "Epoch 33, CIFAR-10 Batch 1:  Loss: 0.000178 Validation Accuracy: 0.580600\n",
      "Epoch 33, CIFAR-10 Batch 2:  Loss: 0.000614 Validation Accuracy: 0.557400\n",
      "Epoch 33, CIFAR-10 Batch 3:  Loss: 0.000108 Validation Accuracy: 0.575000\n",
      "Epoch 33, CIFAR-10 Batch 4:  Loss: 0.002817 Validation Accuracy: 0.573600\n",
      "Epoch 33, CIFAR-10 Batch 5:  Loss: 0.001827 Validation Accuracy: 0.565200\n",
      "Epoch 34, CIFAR-10 Batch 1:  Loss: 0.000470 Validation Accuracy: 0.567400\n",
      "Epoch 34, CIFAR-10 Batch 2:  Loss: 0.000195 Validation Accuracy: 0.570400\n",
      "Epoch 34, CIFAR-10 Batch 3:  Loss: 0.001916 Validation Accuracy: 0.558000\n",
      "Epoch 34, CIFAR-10 Batch 4:  Loss: 0.000589 Validation Accuracy: 0.576800\n",
      "Epoch 34, CIFAR-10 Batch 5:  Loss: 0.001040 Validation Accuracy: 0.568800\n",
      "Epoch 35, CIFAR-10 Batch 1:  Loss: 0.002868 Validation Accuracy: 0.564200\n",
      "Epoch 35, CIFAR-10 Batch 2:  Loss: 0.001224 Validation Accuracy: 0.580400\n",
      "Epoch 35, CIFAR-10 Batch 3:  Loss: 0.000198 Validation Accuracy: 0.576800\n",
      "Epoch 35, CIFAR-10 Batch 4:  Loss: 0.000300 Validation Accuracy: 0.574800\n",
      "Epoch 35, CIFAR-10 Batch 5:  Loss: 0.002236 Validation Accuracy: 0.579200\n",
      "Epoch 36, CIFAR-10 Batch 1:  Loss: 0.000739 Validation Accuracy: 0.580600\n",
      "Epoch 36, CIFAR-10 Batch 2:  Loss: 0.000141 Validation Accuracy: 0.578600\n",
      "Epoch 36, CIFAR-10 Batch 3:  Loss: 0.000704 Validation Accuracy: 0.578200\n",
      "Epoch 36, CIFAR-10 Batch 4:  Loss: 0.000137 Validation Accuracy: 0.571200\n",
      "Epoch 36, CIFAR-10 Batch 5:  Loss: 0.001323 Validation Accuracy: 0.586600\n",
      "Epoch 37, CIFAR-10 Batch 1:  Loss: 0.001724 Validation Accuracy: 0.575800\n",
      "Epoch 37, CIFAR-10 Batch 2:  Loss: 0.000378 Validation Accuracy: 0.571000\n",
      "Epoch 37, CIFAR-10 Batch 3:  Loss: 0.002678 Validation Accuracy: 0.570200\n",
      "Epoch 37, CIFAR-10 Batch 4:  Loss: 0.000353 Validation Accuracy: 0.572200\n",
      "Epoch 37, CIFAR-10 Batch 5:  Loss: 0.000922 Validation Accuracy: 0.575600\n",
      "Epoch 38, CIFAR-10 Batch 1:  Loss: 0.000028 Validation Accuracy: 0.575600\n",
      "Epoch 38, CIFAR-10 Batch 2:  Loss: 0.000990 Validation Accuracy: 0.567400\n",
      "Epoch 38, CIFAR-10 Batch 3:  Loss: 0.000061 Validation Accuracy: 0.583200\n",
      "Epoch 38, CIFAR-10 Batch 4:  Loss: 0.000205 Validation Accuracy: 0.572400\n",
      "Epoch 38, CIFAR-10 Batch 5:  Loss: 0.000782 Validation Accuracy: 0.575400\n",
      "Epoch 39, CIFAR-10 Batch 1:  Loss: 0.001058 Validation Accuracy: 0.578200\n",
      "Epoch 39, CIFAR-10 Batch 2:  Loss: 0.000053 Validation Accuracy: 0.571600\n",
      "Epoch 39, CIFAR-10 Batch 3:  Loss: 0.000821 Validation Accuracy: 0.573400\n",
      "Epoch 39, CIFAR-10 Batch 4:  Loss: 0.000242 Validation Accuracy: 0.569800\n",
      "Epoch 39, CIFAR-10 Batch 5:  Loss: 0.000822 Validation Accuracy: 0.569600\n",
      "Epoch 40, CIFAR-10 Batch 1:  Loss: 0.001096 Validation Accuracy: 0.566000\n",
      "Epoch 40, CIFAR-10 Batch 2:  Loss: 0.000176 Validation Accuracy: 0.572600\n",
      "Epoch 40, CIFAR-10 Batch 3:  Loss: 0.000660 Validation Accuracy: 0.568600\n",
      "Epoch 40, CIFAR-10 Batch 4:  Loss: 0.000630 Validation Accuracy: 0.583800\n",
      "Epoch 40, CIFAR-10 Batch 5:  Loss: 0.000838 Validation Accuracy: 0.572200\n"
     ]
    }
   ],
   "source": [
    "\"\"\"\n",
    "DON'T MODIFY ANYTHING IN THIS CELL\n",
    "\"\"\"\n",
    "save_model_path = './image_classification'\n",
    "\n",
    "print('Training...')\n",
    "with tf.Session() as sess:\n",
    "    # Initializing the variables\n",
    "    sess.run(tf.global_variables_initializer())\n",
    "    \n",
    "    # Training cycle\n",
    "    for epoch in range(epochs):\n",
    "        # Loop over all batches\n",
    "        n_batches = 5\n",
    "        for batch_i in range(1, n_batches + 1):\n",
    "            for batch_features, batch_labels in helper.load_preprocess_training_batch(batch_i, batch_size):\n",
    "                train_neural_network(sess, optimizer, keep_probability, batch_features, batch_labels)\n",
    "            print('Epoch {:>2}, CIFAR-10 Batch {}:  '.format(epoch + 1, batch_i), end='')\n",
    "            print_stats(sess, batch_features, batch_labels, cost, accuracy)\n",
    "            \n",
    "    # Save Model\n",
    "    saver = tf.train.Saver()\n",
    "    save_path = saver.save(sess, save_model_path)"
   ]
  },
  {
   "cell_type": "markdown",
   "metadata": {},
   "source": [
    "# Checkpoint\n",
    "The model has been saved to disk.\n",
    "## Test Model\n",
    "Test your model against the test dataset.  This will be your final accuracy. You should have an accuracy greater than 50%. If you don't, keep tweaking the model architecture and parameters."
   ]
  },
  {
   "cell_type": "code",
   "execution_count": 149,
   "metadata": {
    "scrolled": true
   },
   "outputs": [
    {
     "name": "stdout",
     "output_type": "stream",
     "text": [
      "INFO:tensorflow:Restoring parameters from ./image_classification\n",
      "Testing Accuracy: 0.56943359375\n",
      "\n"
     ]
    },
    {
     "data": {
      "image/png": "[encoded data removed]",
      "text/plain": [
       "<matplotlib.figure.Figure at 0x110437630>"
      ]
     },
     "metadata": {
      "image/png": {
       "height": 319,
       "width": 355
      }
     },
     "output_type": "display_data"
    }
   ],
   "source": [
    "\"\"\"\n",
    "DON'T MODIFY ANYTHING IN THIS CELL\n",
    "\"\"\"\n",
    "%matplotlib inline\n",
    "%config InlineBackend.figure_format = 'retina'\n",
    "\n",
    "import tensorflow as tf\n",
    "import pickle\n",
    "import helper\n",
    "import random\n",
    "\n",
    "# Set batch size if not already set\n",
    "try:\n",
    "    if batch_size:\n",
    "        pass\n",
    "except NameError:\n",
    "    batch_size = 64\n",
    "\n",
    "save_model_path = './image_classification'\n",
    "n_samples = 4\n",
    "top_n_predictions = 3\n",
    "\n",
    "def test_model():\n",
    "    \"\"\"\n",
    "    Test the saved model against the test dataset\n",
    "    \"\"\"\n",
    "\n",
    "    test_features, test_labels = pickle.load(open('preprocess_training.p', mode='rb'))\n",
    "    loaded_graph = tf.Graph()\n",
    "\n",
    "    with tf.Session(graph=loaded_graph) as sess:\n",
    "        # Load model\n",
    "        loader = tf.train.import_meta_graph(save_model_path + '.meta')\n",
    "        loader.restore(sess, save_model_path)\n",
    "\n",
    "        # Get Tensors from loaded model\n",
    "        loaded_x = loaded_graph.get_tensor_by_name('x:0')\n",
    "        loaded_y = loaded_graph.get_tensor_by_name('y:0')\n",
    "        loaded_keep_prob = loaded_graph.get_tensor_by_name('keep_prob:0')\n",
    "        loaded_logits = loaded_graph.get_tensor_by_name('logits:0')\n",
    "        loaded_acc = loaded_graph.get_tensor_by_name('accuracy:0')\n",
    "        \n",
    "        # Get accuracy in batches for memory limitations\n",
    "        test_batch_acc_total = 0\n",
    "        test_batch_count = 0\n",
    "        \n",
    "        for train_feature_batch, train_label_batch in helper.batch_features_labels(test_features, test_labels, batch_size):\n",
    "            test_batch_acc_total += sess.run(\n",
    "                loaded_acc,\n",
    "                feed_dict={loaded_x: train_feature_batch, loaded_y: train_label_batch, loaded_keep_prob: 1.0})\n",
    "            test_batch_count += 1\n",
    "\n",
    "        print('Testing Accuracy: {}\\n'.format(test_batch_acc_total/test_batch_count))\n",
    "\n",
    "        # Print Random Samples\n",
    "        random_test_features, random_test_labels = tuple(zip(*random.sample(list(zip(test_features, test_labels)), n_samples)))\n",
    "        random_test_predictions = sess.run(\n",
    "            tf.nn.top_k(tf.nn.softmax(loaded_logits), top_n_predictions),\n",
    "            feed_dict={loaded_x: random_test_features, loaded_y: random_test_labels, loaded_keep_prob: 1.0})\n",
    "        helper.display_image_predictions(random_test_features, random_test_labels, random_test_predictions)\n",
    "\n",
    "\n",
    "test_model()"
   ]
  },
  {
   "cell_type": "markdown",
   "metadata": {},
   "source": [
    "## Why 50-80% Accuracy?\n",
    "You might be wondering why you can't get an accuracy any higher. First things first, 50% isn't bad for a simple CNN.  Pure guessing would get you 10% accuracy. That's because there are many more techniques that can be applied to your model and we recemmond that once you are done with this project, you explore!\n",
    "\n",
    "## Submitting This Project\n",
    "When submitting this project, make sure to run all the cells before saving the notebook.  Save the notebook file as \"image_classification.ipynb\" and save it as a HTML file under \"File\" -> \"Download as\".  Include the \"helper.py\" and \"problem_unittests.py\" files in your submission."
   ]
  }
 ],
 "metadata": {
  "anaconda-cloud": {},
  "kernelspec": {
   "display_name": "Python 3",
   "language": "python",
   "name": "python3"
  },
  "language_info": {
   "codemirror_mode": {
    "name": "ipython",
    "version": 3
   },
   "file_extension": ".py",
   "mimetype": "text/x-python",
   "name": "python",
   "nbconvert_exporter": "python",
   "pygments_lexer": "ipython3",
   "version": "3.5.3"
  }
 },
 "nbformat": 4,
 "nbformat_minor": 1
}
